{
 "cells": [
  {
   "cell_type": "code",
   "execution_count": 6,
   "id": "7fe8d48f",
   "metadata": {},
   "outputs": [
    {
     "name": "stdout",
     "output_type": "stream",
     "text": [
      "\n",
      "🔍 Memory Monitoring Active (Press 'q' + Enter to Stop)\n",
      "\n",
      "💾 Memory Usage: 84.9% | Available: 0.95 GB | Used: 5.35 GB\n",
      "Press 'q' + Enter to stop: q\n",
      "\n",
      "🛑 Memory Monitoring Stopped.\n"
     ]
    }
   ],
   "source": [
    "import psutil\n",
    "import time\n",
    "\n",
    "def monitor_memory(interval=5):\n",
    "    print(\"\\n🔍 Memory Monitoring Active (Press 'q' + Enter to Stop)\\n\")\n",
    "    try:\n",
    "        while True:\n",
    "            mem = psutil.virtual_memory()\n",
    "            print(f\"💾 Memory Usage: {mem.percent}% | Available: {mem.available / 1e9:.2f} GB | Used: {mem.used / 1e9:.2f} GB\")\n",
    "\n",
    "            # Stop if user types \"q\"\n",
    "            if input(\"Press 'q' + Enter to stop: \").strip().lower() == 'q':\n",
    "                print(\"\\n🛑 Memory Monitoring Stopped.\")\n",
    "                break\n",
    "\n",
    "            time.sleep(interval)\n",
    "    except KeyboardInterrupt:\n",
    "        print(\"\\n🛑 Monitoring Stopped via Keyboard Interrupt.\")\n",
    "\n",
    "# Run the function\n",
    "monitor_memory()\n"
   ]
  },
  {
   "cell_type": "code",
   "execution_count": null,
   "id": "14b9c7f9",
   "metadata": {},
   "outputs": [],
   "source": []
  },
  {
   "cell_type": "code",
   "execution_count": null,
   "id": "8eb90a2a",
   "metadata": {},
   "outputs": [],
   "source": []
  }
 ],
 "metadata": {
  "kernelspec": {
   "display_name": "Python 3 (ipykernel)",
   "language": "python",
   "name": "python3"
  },
  "language_info": {
   "codemirror_mode": {
    "name": "ipython",
    "version": 3
   },
   "file_extension": ".py",
   "mimetype": "text/x-python",
   "name": "python",
   "nbconvert_exporter": "python",
   "pygments_lexer": "ipython3",
   "version": "3.11.4"
  }
 },
 "nbformat": 4,
 "nbformat_minor": 5
}
